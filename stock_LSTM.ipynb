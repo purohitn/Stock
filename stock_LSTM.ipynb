{
  "nbformat": 4,
  "nbformat_minor": 5,
  "metadata": {
    "kernelspec": {
      "display_name": "Python [conda env:tensorflow]",
      "language": "python",
      "name": "conda-env-tensorflow-py"
    },
    "language_info": {
      "codemirror_mode": {
        "name": "ipython",
        "version": 3
      },
      "file_extension": ".py",
      "mimetype": "text/x-python",
      "name": "python",
      "nbconvert_exporter": "python",
      "pygments_lexer": "ipython3",
      "version": "3.8.5"
    },
    "colab": {
      "name": "stock_LSTM.ipynb",
      "provenance": [],
      "include_colab_link": true
    },
    "accelerator": "GPU"
  },
  "cells": [
    {
      "cell_type": "markdown",
      "metadata": {
        "id": "view-in-github",
        "colab_type": "text"
      },
      "source": [
        "<a href=\"https://colab.research.google.com/github/purohitn/Stock/blob/main/stock_LSTM.ipynb\" target=\"_parent\"><img src=\"https://colab.research.google.com/assets/colab-badge.svg\" alt=\"Open In Colab\"/></a>"
      ]
    },
    {
      "cell_type": "code",
      "metadata": {
        "colab": {
          "base_uri": "https://localhost:8080/"
        },
        "id": "eSxMwbgIw0gF",
        "outputId": "9421e444-0986-40c4-f62b-87acb7da7e2d"
      },
      "source": [
        "!pip install yfinance"
      ],
      "id": "eSxMwbgIw0gF",
      "execution_count": null,
      "outputs": [
        {
          "output_type": "stream",
          "name": "stdout",
          "text": [
            "Collecting yfinance\n",
            "  Downloading yfinance-0.1.64.tar.gz (26 kB)\n",
            "Requirement already satisfied: pandas>=0.24 in /usr/local/lib/python3.7/dist-packages (from yfinance) (1.1.5)\n",
            "Requirement already satisfied: numpy>=1.15 in /usr/local/lib/python3.7/dist-packages (from yfinance) (1.19.5)\n",
            "Requirement already satisfied: requests>=2.20 in /usr/local/lib/python3.7/dist-packages (from yfinance) (2.23.0)\n",
            "Requirement already satisfied: multitasking>=0.0.7 in /usr/local/lib/python3.7/dist-packages (from yfinance) (0.0.9)\n",
            "Collecting lxml>=4.5.1\n",
            "  Downloading lxml-4.6.4-cp37-cp37m-manylinux_2_17_x86_64.manylinux2014_x86_64.manylinux_2_24_x86_64.whl (6.3 MB)\n",
            "\u001b[K     |████████████████████████████████| 6.3 MB 6.8 MB/s \n",
            "\u001b[?25hRequirement already satisfied: python-dateutil>=2.7.3 in /usr/local/lib/python3.7/dist-packages (from pandas>=0.24->yfinance) (2.8.2)\n",
            "Requirement already satisfied: pytz>=2017.2 in /usr/local/lib/python3.7/dist-packages (from pandas>=0.24->yfinance) (2018.9)\n",
            "Requirement already satisfied: six>=1.5 in /usr/local/lib/python3.7/dist-packages (from python-dateutil>=2.7.3->pandas>=0.24->yfinance) (1.15.0)\n",
            "Requirement already satisfied: idna<3,>=2.5 in /usr/local/lib/python3.7/dist-packages (from requests>=2.20->yfinance) (2.10)\n",
            "Requirement already satisfied: chardet<4,>=3.0.2 in /usr/local/lib/python3.7/dist-packages (from requests>=2.20->yfinance) (3.0.4)\n",
            "Requirement already satisfied: urllib3!=1.25.0,!=1.25.1,<1.26,>=1.21.1 in /usr/local/lib/python3.7/dist-packages (from requests>=2.20->yfinance) (1.24.3)\n",
            "Requirement already satisfied: certifi>=2017.4.17 in /usr/local/lib/python3.7/dist-packages (from requests>=2.20->yfinance) (2021.5.30)\n",
            "Building wheels for collected packages: yfinance\n",
            "  Building wheel for yfinance (setup.py) ... \u001b[?25l\u001b[?25hdone\n",
            "  Created wheel for yfinance: filename=yfinance-0.1.64-py2.py3-none-any.whl size=24109 sha256=648aa16c04e2fc03a3837e34afd183bb6439b84cc414c7992a0969d4f3b991cf\n",
            "  Stored in directory: /root/.cache/pip/wheels/86/fe/9b/a4d3d78796b699e37065e5b6c27b75cff448ddb8b24943c288\n",
            "Successfully built yfinance\n",
            "Installing collected packages: lxml, yfinance\n",
            "  Attempting uninstall: lxml\n",
            "    Found existing installation: lxml 4.2.6\n",
            "    Uninstalling lxml-4.2.6:\n",
            "      Successfully uninstalled lxml-4.2.6\n",
            "Successfully installed lxml-4.6.4 yfinance-0.1.64\n"
          ]
        }
      ]
    },
    {
      "cell_type": "code",
      "metadata": {
        "id": "inside-function"
      },
      "source": [
        "import pandas as pd\n",
        "import numpy as np\n",
        "import math\n",
        "import pandas_datareader as pdd\n",
        "from sklearn.preprocessing import MinMaxScaler\n",
        "from tensorflow import keras\n",
        "from tensorflow.keras.models import Sequential\n",
        "from tensorflow.keras.layers import Dense, LSTM\n",
        "import matplotlib.pyplot as plt"
      ],
      "id": "inside-function",
      "execution_count": null,
      "outputs": []
    },
    {
      "cell_type": "code",
      "metadata": {
        "colab": {
          "base_uri": "https://localhost:8080/"
        },
        "id": "assisted-command",
        "outputId": "5ce4b605-1405-4f7a-c005-6d332872ac42"
      },
      "source": [
        "from pandas_datareader import data as pdr\n",
        "import yfinance as yfin\n",
        "yfin.pdr_override()\n",
        "\n",
        "df = pdr.get_data_yahoo(\"AAPL\", start=\"2013-01-01\", end=\"2019-12-30\")\n",
        "print(df)"
      ],
      "id": "assisted-command",
      "execution_count": null,
      "outputs": [
        {
          "output_type": "stream",
          "name": "stdout",
          "text": [
            "\r[*********************100%***********************]  1 of 1 completed\n",
            "                 Open       High        Low      Close  Adj Close     Volume\n",
            "Date                                                                        \n",
            "2013-01-02  19.779285  19.821428  19.343929  19.608213  16.960691  560518000\n",
            "2013-01-03  19.567142  19.631071  19.321428  19.360714  16.746611  352965200\n",
            "2013-01-04  19.177500  19.236786  18.779642  18.821428  16.280142  594333600\n",
            "2013-01-07  18.642857  18.903570  18.400000  18.710714  16.184372  484156400\n",
            "2013-01-08  18.900356  18.996071  18.616072  18.761070  16.227928  458707200\n",
            "...               ...        ...        ...        ...        ...        ...\n",
            "2019-12-20  70.557503  70.662498  69.639999  69.860001  68.837494  275978000\n",
            "2019-12-23  70.132500  71.062500  70.092499  71.000000  69.960800   98572000\n",
            "2019-12-24  71.172501  71.222504  70.730003  71.067497  70.027306   48478800\n",
            "2019-12-26  71.205002  72.495003  71.175003  72.477501  71.416672   93121200\n",
            "2019-12-27  72.779999  73.492500  72.029999  72.449997  71.389572  146266000\n",
            "\n",
            "[1760 rows x 6 columns]\n"
          ]
        }
      ]
    },
    {
      "cell_type": "code",
      "metadata": {
        "colab": {
          "base_uri": "https://localhost:8080/",
          "height": 378
        },
        "id": "loose-format",
        "outputId": "e3f6a7ea-5229-4377-a44b-ce2cde8c4401"
      },
      "source": [
        "plt.figure(figsize=(16,8))\n",
        "plt.title('close price movement')\n",
        "plt.plot(df['Close'])\n",
        "plt.xlabel('Date', fontsize=18)\n",
        "plt.ylabel('Close Price in $', fontsize=18)\n",
        "plt.show"
      ],
      "id": "loose-format",
      "execution_count": null,
      "outputs": [
        {
          "output_type": "execute_result",
          "data": {
            "text/plain": [
              "<function matplotlib.pyplot.show>"
            ]
          },
          "metadata": {},
          "execution_count": 5
        },
        {
          "output_type": "display_data",
          "data": {
            "image/png": "[encoded data removed]",
            "text/plain": [
              "<Figure size 1152x576 with 1 Axes>"
            ]
          },
          "metadata": {
            "needs_background": "light"
          }
        }
      ]
    },
    {
      "cell_type": "code",
      "metadata": {
        "colab": {
          "base_uri": "https://localhost:8080/"
        },
        "id": "preceding-closer",
        "outputId": "4d79492e-d3b2-456b-fa31-821131c89a6a"
      },
      "source": [
        "data = df.filter(['Close'])\n",
        "dataset = data.values\n",
        "len(dataset)"
      ],
      "id": "preceding-closer",
      "execution_count": null,
      "outputs": [
        {
          "output_type": "execute_result",
          "data": {
            "text/plain": [
              "1760"
            ]
          },
          "metadata": {},
          "execution_count": 6
        }
      ]
    },
    {
      "cell_type": "code",
      "metadata": {
        "colab": {
          "base_uri": "https://localhost:8080/"
        },
        "id": "laughing-palace",
        "outputId": "82c3ac62-d2e1-42b1-f884-18a96d0700b4"
      },
      "source": [
        "training_data_size = math.ceil(len(dataset)*.7)\n",
        "training_data_size"
      ],
      "id": "laughing-palace",
      "execution_count": null,
      "outputs": [
        {
          "output_type": "execute_result",
          "data": {
            "text/plain": [
              "1232"
            ]
          },
          "metadata": {},
          "execution_count": 7
        }
      ]
    },
    {
      "cell_type": "code",
      "metadata": {
        "colab": {
          "base_uri": "https://localhost:8080/"
        },
        "id": "worse-hostel",
        "outputId": "f0659160-3726-447f-8763-9e124127d37a"
      },
      "source": [
        "scaler = MinMaxScaler(feature_range=(0,1))\n",
        "scaled_data = scaler.fit_transform(dataset)\n",
        "scaled_data\n"
      ],
      "id": "worse-hostel",
      "execution_count": null,
      "outputs": [
        {
          "output_type": "execute_result",
          "data": {
            "text/plain": [
              "array([[0.09671473],\n",
              "       [0.09248614],\n",
              "       [0.08327231],\n",
              "       ...,\n",
              "       [0.97590973],\n",
              "       [1.        ],\n",
              "       [0.99953009]])"
            ]
          },
          "metadata": {},
          "execution_count": 8
        }
      ]
    },
    {
      "cell_type": "code",
      "metadata": {
        "colab": {
          "base_uri": "https://localhost:8080/"
        },
        "id": "patent-israel",
        "outputId": "16b39fed-9e4f-470a-8b76-830843d6959c"
      },
      "source": [
        "train_data = scaled_data[0:training_data_size, :]\n",
        "x_train = []\n",
        "y_train = []\n",
        "for i in range(60, len(train_data)):\n",
        "    x_train.append(train_data[i-60:i, 0])\n",
        "    y_train.append(train_data[i,0])\n",
        "    if i <=60:\n",
        "        print(x_train)\n",
        "        print(y_train)"
      ],
      "id": "patent-israel",
      "execution_count": null,
      "outputs": [
        {
          "output_type": "stream",
          "name": "stdout",
          "text": [
            "[array([0.09671473, 0.09248614, 0.08327231, 0.08138073, 0.08224107,\n",
            "       0.07723146, 0.08114277, 0.07918407, 0.06786508, 0.05820581,\n",
            "       0.07051327, 0.06843253, 0.06679725, 0.06970784, 0.07534597,\n",
            "       0.03659297, 0.03011276, 0.03618413, 0.0413341 , 0.04045544,\n",
            "       0.03963779, 0.03849673, 0.03160162, 0.04107174, 0.04077275,\n",
            "       0.04740548, 0.05153035, 0.05455076, 0.04721022, 0.04666715,\n",
            "       0.04641088, 0.04248737, 0.04238361, 0.03558615, 0.03388371,\n",
            "       0.03678211, 0.03189452, 0.03565937, 0.03297453, 0.03104025,\n",
            "       0.0243709 , 0.01801275, 0.02477971, 0.02143589, 0.02443801,\n",
            "       0.02513363, 0.02888628, 0.0231261 , 0.02307729, 0.02560958,\n",
            "       0.03241927, 0.03977814, 0.03902762, 0.03755704, 0.03795366,\n",
            "       0.0435552 , 0.04457421, 0.04308535, 0.03755704, 0.03180909])]\n",
            "[0.02341900173486275]\n"
          ]
        }
      ]
    },
    {
      "cell_type": "code",
      "metadata": {
        "colab": {
          "base_uri": "https://localhost:8080/"
        },
        "id": "marked-cabinet",
        "outputId": "3ec63cb9-8f5c-4421-b597-c495116b51fd"
      },
      "source": [
        "x_train, y_train = np.array(x_train), np.array(y_train)\n",
        "x_train = np.reshape(x_train, (x_train.shape[0], x_train.shape[1], 1))\n",
        "x_train.shape"
      ],
      "id": "marked-cabinet",
      "execution_count": null,
      "outputs": [
        {
          "output_type": "execute_result",
          "data": {
            "text/plain": [
              "(1172, 60, 1)"
            ]
          },
          "metadata": {},
          "execution_count": 10
        }
      ]
    },
    {
      "cell_type": "code",
      "metadata": {
        "id": "injured-cowboy"
      },
      "source": [
        "model = Sequential()\n",
        "model.add(LSTM(50, return_sequences=True, input_shape = (x_train.shape[1], 1)))\n",
        "model.add(LSTM(50, return_sequences=False))\n",
        "model.add(Dense(25))\n",
        "model.add(Dense(1))"
      ],
      "id": "injured-cowboy",
      "execution_count": null,
      "outputs": []
    },
    {
      "cell_type": "code",
      "metadata": {
        "id": "macro-fundamental"
      },
      "source": [
        "model.compile(optimizer='adam', loss='mean_squared_error')\n"
      ],
      "id": "macro-fundamental",
      "execution_count": null,
      "outputs": []
    },
    {
      "cell_type": "code",
      "metadata": {
        "colab": {
          "base_uri": "https://localhost:8080/"
        },
        "id": "perceived-marks",
        "outputId": "10e38036-f1a0-41c7-d0a8-cb17b4e711b3"
      },
      "source": [
        "model.fit(x_train, y_train, batch_size=1, epochs=10)"
      ],
      "id": "perceived-marks",
      "execution_count": null,
      "outputs": [
        {
          "output_type": "stream",
          "name": "stdout",
          "text": [
            "Epoch 1/10\n",
            "1172/1172 [==============================] - 30s 19ms/step - loss: 5.3807e-04\n",
            "Epoch 2/10\n",
            "1172/1172 [==============================] - 22s 19ms/step - loss: 2.9527e-04\n",
            "Epoch 3/10\n",
            "1172/1172 [==============================] - 23s 19ms/step - loss: 1.8856e-04\n",
            "Epoch 4/10\n",
            "1172/1172 [==============================] - 23s 19ms/step - loss: 1.7879e-04\n",
            "Epoch 5/10\n",
            "1172/1172 [==============================] - 23s 19ms/step - loss: 1.4583e-04\n",
            "Epoch 6/10\n",
            "1172/1172 [==============================] - 23s 19ms/step - loss: 1.1357e-04\n",
            "Epoch 7/10\n",
            "1172/1172 [==============================] - 23s 19ms/step - loss: 1.0367e-04\n",
            "Epoch 8/10\n",
            "1172/1172 [==============================] - 22s 19ms/step - loss: 1.1844e-04\n",
            "Epoch 9/10\n",
            "1172/1172 [==============================] - 22s 19ms/step - loss: 1.1450e-04\n",
            "Epoch 10/10\n",
            "1172/1172 [==============================] - 22s 19ms/step - loss: 1.0469e-04\n"
          ]
        },
        {
          "output_type": "execute_result",
          "data": {
            "text/plain": [
              "<keras.callbacks.History at 0x7fd440515950>"
            ]
          },
          "metadata": {},
          "execution_count": 13
        }
      ]
    },
    {
      "cell_type": "code",
      "metadata": {
        "id": "bottom-orleans"
      },
      "source": [
        "test_data = scaled_data[training_data_size - 60: ,:]\n",
        "x_test = []\n",
        "y_test = dataset[training_data_size:, :]\n",
        "for i in range(60, len(test_data)):\n",
        "  x_test.append(test_data[i-60:i, 0])\n"
      ],
      "id": "bottom-orleans",
      "execution_count": null,
      "outputs": []
    },
    {
      "cell_type": "code",
      "metadata": {
        "id": "bkqu8Oiu7Aaf"
      },
      "source": [
        "x_test = np.array(x_test)\n",
        "x_test = np.reshape(x_test, (x_test.shape[0], x_test.shape[1],1))"
      ],
      "id": "bkqu8Oiu7Aaf",
      "execution_count": null,
      "outputs": []
    },
    {
      "cell_type": "code",
      "metadata": {
        "id": "c91pZKlK7Z6K"
      },
      "source": [
        "prediction = model.predict(x_test)\n",
        "prediction = scaler.inverse_transform(prediction)"
      ],
      "id": "c91pZKlK7Z6K",
      "execution_count": null,
      "outputs": []
    },
    {
      "cell_type": "code",
      "metadata": {
        "colab": {
          "base_uri": "https://localhost:8080/"
        },
        "id": "CKrylcnlqlkC",
        "outputId": "4991488e-b5ad-464a-a238-cea5ef72b1f2"
      },
      "source": [
        "rmse = np.sqrt(np.mean(prediction- y_test)**2)\n",
        "rmse"
      ],
      "id": "CKrylcnlqlkC",
      "execution_count": null,
      "outputs": [
        {
          "output_type": "execute_result",
          "data": {
            "text/plain": [
              "0.5064518812930945"
            ]
          },
          "metadata": {},
          "execution_count": 19
        }
      ]
    },
    {
      "cell_type": "code",
      "metadata": {
        "colab": {
          "base_uri": "https://localhost:8080/",
          "height": 498
        },
        "id": "W0aFr4TBwctd",
        "outputId": "509dad7e-9394-4a28-82ab-95d750ab40e9"
      },
      "source": [
        "train = data[:training_data_size]\n",
        "valid = data[training_data_size:]\n",
        "valid['prediction'] = prediction\n",
        "plt.figure(figsize=(16,8))\n",
        "plt.title('Model LM')\n",
        "plt.xlabel('Date', fontsize=18)\n",
        "plt.ylabel('closeprice in $', fontsize=18)\n",
        "plt.plot(train['Close'])\n",
        "plt.plot(valid[['Close', 'prediction']])\n",
        "plt.legend(['Train', 'val', 'predictions'], loc='lower right')\n",
        "plt.show"
      ],
      "id": "W0aFr4TBwctd",
      "execution_count": null,
      "outputs": [
        {
          "output_type": "stream",
          "name": "stderr",
          "text": [
            "/usr/local/lib/python3.7/dist-packages/ipykernel_launcher.py:3: SettingWithCopyWarning: \n",
            "A value is trying to be set on a copy of a slice from a DataFrame.\n",
            "Try using .loc[row_indexer,col_indexer] = value instead\n",
            "\n",
            "See the caveats in the documentation: https://pandas.pydata.org/pandas-docs/stable/user_guide/indexing.html#returning-a-view-versus-a-copy\n",
            "  This is separate from the ipykernel package so we can avoid doing imports until\n"
          ]
        },
        {
          "output_type": "execute_result",
          "data": {
            "text/plain": [
              "<function matplotlib.pyplot.show>"
            ]
          },
          "metadata": {},
          "execution_count": 23
        },
        {
          "output_type": "display_data",
          "data": {
            "image/png": "[encoded data removed]",
            "text/plain": [
              "<Figure size 1152x576 with 1 Axes>"
            ]
          },
          "metadata": {
            "needs_background": "light"
          }
        }
      ]
    },
    {
      "cell_type": "code",
      "metadata": {
        "colab": {
          "base_uri": "https://localhost:8080/",
          "height": 447
        },
        "id": "yOIOIzSozBIf",
        "outputId": "f9a6db64-af70-4540-99f3-e8d63b6a24df"
      },
      "source": [
        "valid"
      ],
      "id": "yOIOIzSozBIf",
      "execution_count": null,
      "outputs": [
        {
          "output_type": "execute_result",
          "data": {
            "text/html": [
              "<div>\n",
              "<style scoped>\n",
              "    .dataframe tbody tr th:only-of-type {\n",
              "        vertical-align: middle;\n",
              "    }\n",
              "\n",
              "    .dataframe tbody tr th {\n",
              "        vertical-align: top;\n",
              "    }\n",
              "\n",
              "    .dataframe thead th {\n",
              "        text-align: right;\n",
              "    }\n",
              "</style>\n",
              "<table border=\"1\" class=\"dataframe\">\n",
              "  <thead>\n",
              "    <tr style=\"text-align: right;\">\n",
              "      <th></th>\n",
              "      <th>Close</th>\n",
              "      <th>prediction</th>\n",
              "    </tr>\n",
              "    <tr>\n",
              "      <th>Date</th>\n",
              "      <th></th>\n",
              "      <th></th>\n",
              "    </tr>\n",
              "  </thead>\n",
              "  <tbody>\n",
              "    <tr>\n",
              "      <th>2017-11-21</th>\n",
              "      <td>43.285000</td>\n",
              "      <td>42.239765</td>\n",
              "    </tr>\n",
              "    <tr>\n",
              "      <th>2017-11-22</th>\n",
              "      <td>43.740002</td>\n",
              "      <td>43.114449</td>\n",
              "    </tr>\n",
              "    <tr>\n",
              "      <th>2017-11-24</th>\n",
              "      <td>43.742500</td>\n",
              "      <td>43.436142</td>\n",
              "    </tr>\n",
              "    <tr>\n",
              "      <th>2017-11-27</th>\n",
              "      <td>43.522499</td>\n",
              "      <td>43.411003</td>\n",
              "    </tr>\n",
              "    <tr>\n",
              "      <th>2017-11-28</th>\n",
              "      <td>43.267502</td>\n",
              "      <td>43.198326</td>\n",
              "    </tr>\n",
              "    <tr>\n",
              "      <th>...</th>\n",
              "      <td>...</td>\n",
              "      <td>...</td>\n",
              "    </tr>\n",
              "    <tr>\n",
              "      <th>2019-12-20</th>\n",
              "      <td>69.860001</td>\n",
              "      <td>68.618217</td>\n",
              "    </tr>\n",
              "    <tr>\n",
              "      <th>2019-12-23</th>\n",
              "      <td>71.000000</td>\n",
              "      <td>68.358536</td>\n",
              "    </tr>\n",
              "    <tr>\n",
              "      <th>2019-12-24</th>\n",
              "      <td>71.067497</td>\n",
              "      <td>69.963951</td>\n",
              "    </tr>\n",
              "    <tr>\n",
              "      <th>2019-12-26</th>\n",
              "      <td>72.477501</td>\n",
              "      <td>69.341248</td>\n",
              "    </tr>\n",
              "    <tr>\n",
              "      <th>2019-12-27</th>\n",
              "      <td>72.449997</td>\n",
              "      <td>71.475784</td>\n",
              "    </tr>\n",
              "  </tbody>\n",
              "</table>\n",
              "<p>528 rows × 2 columns</p>\n",
              "</div>"
            ],
            "text/plain": [
              "                Close  prediction\n",
              "Date                             \n",
              "2017-11-21  43.285000   42.239765\n",
              "2017-11-22  43.740002   43.114449\n",
              "2017-11-24  43.742500   43.436142\n",
              "2017-11-27  43.522499   43.411003\n",
              "2017-11-28  43.267502   43.198326\n",
              "...               ...         ...\n",
              "2019-12-20  69.860001   68.618217\n",
              "2019-12-23  71.000000   68.358536\n",
              "2019-12-24  71.067497   69.963951\n",
              "2019-12-26  72.477501   69.341248\n",
              "2019-12-27  72.449997   71.475784\n",
              "\n",
              "[528 rows x 2 columns]"
            ]
          },
          "metadata": {},
          "execution_count": 24
        }
      ]
    }
  ]
}